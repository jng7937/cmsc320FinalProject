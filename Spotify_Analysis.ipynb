{
 "cells": [
  {
   "cell_type": "markdown",
   "id": "d7d34c32",
   "metadata": {},
   "source": [
    "#**Link to datasets:**\n",
    "* https://www.kaggle.com/datasets/zaheenhamidani/ultimate-spotify-tracks-db\n",
    "* https://www.kaggle.com/datasets/maharshipandya/-spotify-tracks-dataset\n",
    "\n",
    "  *(We are using the 2nd one)*\n",
    "\n",
    "#**CHECKPOINT 2 INSTRUCTIONS**\n",
    "Submit a Jupyter notebook file (.ipynb) on Gradescope with:\n",
    "\n",
    "##**Data preprocessing:**\n",
    "  * (a) import\n",
    "  * (b) parse (e.g., convert strings to ints)\n",
    "  * (c) organize   (e.g., set up a database or a pandas DataFrame)."
   ]
  },
  {
   "cell_type": "code",
   "execution_count": null,
   "id": "235f7cac",
   "metadata": {
    "vscode": {
     "languageId": "plaintext"
    }
   },
   "outputs": [],
   "source": [
    "#### Imports ###\n",
    "import pandas as pd\n",
    "import matplotlib as mpl\n",
    "import matplotlib.pyplot as plt\n",
    "\n",
    "import seaborn as sns"
   ]
  },
  {
   "cell_type": "code",
   "execution_count": null,
   "id": "de805419",
   "metadata": {
    "vscode": {
     "languageId": "plaintext"
    }
   },
   "outputs": [],
   "source": [
    "spotify_df = pd.read_csv('dataset.csv')\n",
    "#spotify_df\n",
    "\n",
    "#getting rid of some columns\n",
    "spotify_df = spotify_df[['track_id', 'popularity', 'danceability', 'energy', 'acousticness', 'instrumentalness', 'track_genre']]\n",
    "#spotify_df\n",
    "\n",
    "#checking the types\n",
    "spotify_df.dtypes"
   ]
  },
  {
   "cell_type": "code",
   "execution_count": null,
   "id": "317ac2a5",
   "metadata": {
    "vscode": {
     "languageId": "plaintext"
    }
   },
   "outputs": [],
   "source": [
    "# making a new category in order to plot unpopular vs popular on the same graph..\n",
    "def label_popularity (popularity):\n",
    "  if popularity >= 80:\n",
    "    return \"Popular\"\n",
    "  elif (popularity < 80) & (popularity > 20):\n",
    "    return \"Average\"\n",
    "  else: \n",
    "    return \"Unpopular\"\n",
    "\n",
    "spotify_df['popularity_label'] = spotify_df['popularity'].apply(label_popularity)\n",
    "spotify_df"
   ]
  },
  {
   "cell_type": "code",
   "execution_count": null,
   "id": "eabe8347",
   "metadata": {
    "vscode": {
     "languageId": "plaintext"
    }
   },
   "outputs": [],
   "source": [
    "#just organizing popular (score of >=80) vs unpopular (score of <=20)\n",
    "unpopular_condition = spotify_df['popularity'] <=20\n",
    "unpopular_df = spotify_df.loc[unpopular_condition, :]\n",
    "#unpopular_df\n",
    "\n",
    "popular_condition = spotify_df['popularity'] >=80\n",
    "popular_df = spotify_df.loc[popular_condition, :]\n",
    "popular_df"
   ]
  },
  {
   "cell_type": "markdown",
   "id": "87c79bb8",
   "metadata": {},
   "source": [
    "##**Basic data exploration and summary statistics**\n",
    "\n",
    "You must present three conclusions using at least **three** different statistical methods, including hypothesis testing.\n",
    "\n",
    "**For example:** What are the main characteristics of your dataset? How many features and entries are there? Is a feature over-represented? Are features correlated? Are there outliers? **Identify the attributes that will affect your choice of primary analysis technique**. Etcetera.\n",
    "\n",
    "**For each method, you must have at least one gorgeous plot.**"
   ]
  },
  {
   "cell_type": "code",
   "execution_count": null,
   "id": "48979961",
   "metadata": {
    "vscode": {
     "languageId": "plaintext"
    }
   },
   "outputs": [],
   "source": [
    "pop_sample = popular_df.sample(n = 30)\n",
    "unpop_sample = unpopular_df.sample(n = 30)"
   ]
  },
  {
   "cell_type": "code",
   "execution_count": null,
   "id": "12554d74",
   "metadata": {
    "vscode": {
     "languageId": "plaintext"
    }
   },
   "outputs": [],
   "source": [
    "#using stratisfied sampling\n",
    "sampled_df = pd.concat([pop_sample, unpop_sample], ignore_index= True)\n",
    "sampled_df"
   ]
  },
  {
   "cell_type": "code",
   "execution_count": null,
   "id": "547e8f10",
   "metadata": {
    "vscode": {
     "languageId": "plaintext"
    }
   },
   "outputs": [],
   "source": [
    "#just checking to see if stuff even has correlation\n",
    "sns.set_theme()\n",
    "\n",
    "\n",
    "dance_plot = sns.kdeplot(data = sampled_df, x = \"danceability\", y = \"popularity\", fill = True, hue = \"popularity_label\")\n",
    "plt.title(\"Danceability\")\n",
    "sns.move_legend(dance_plot, \"upper left\", bbox_to_anchor=(1, 1))\n",
    "plt.show()"
   ]
  },
  {
   "cell_type": "code",
   "execution_count": null,
   "id": "85e05af1",
   "metadata": {
    "vscode": {
     "languageId": "plaintext"
    }
   },
   "outputs": [],
   "source": [
    "energy_plot = sns.kdeplot(data = sampled_df, x = \"energy\", y = \"popularity\", fill = True, hue = \"popularity_label\")\n",
    "plt.title(\"Energy\")\n",
    "sns.move_legend(energy_plot, \"upper left\", bbox_to_anchor=(1, 1))\n",
    "plt.show()"
   ]
  },
  {
   "cell_type": "code",
   "execution_count": null,
   "id": "93872380",
   "metadata": {
    "vscode": {
     "languageId": "plaintext"
    }
   },
   "outputs": [],
   "source": [
    "acoustic_plot = sns.kdeplot(data = sampled_df, x = \"acousticness\", y = \"popularity\", fill = True, hue = \"popularity_label\")\n",
    "plt.title(\"Acousticness\")\n",
    "sns.move_legend(acoustic_plot, \"upper left\", bbox_to_anchor=(1, 1))\n",
    "plt.show()"
   ]
  },
  {
   "cell_type": "code",
   "execution_count": null,
   "id": "8cba02a4",
   "metadata": {
    "vscode": {
     "languageId": "plaintext"
    }
   },
   "outputs": [],
   "source": [
    "\n",
    "instrumental_plot = sns.kdeplot(data = sampled_df, x = \"instrumentalness\", y = \"popularity\", fill = True, hue = \"popularity_label\")\n",
    "plt.title(\"Instrumentalness\")\n",
    "sns.move_legend(instrumental_plot, \"upper left\", bbox_to_anchor=(1, 1))\n",
    "plt.show()"
   ]
  },
  {
   "cell_type": "code",
   "execution_count": null,
   "id": "1056265a",
   "metadata": {
    "vscode": {
     "languageId": "plaintext"
    }
   },
   "outputs": [],
   "source": [
    "genre_plot = sns.displot(data = sampled_df, x = \"track_genre\", y = \"popularity\", hue = \"popularity_label\")\n",
    "plt.title(\"Genre\")\n",
    "genre_plot.tick_params(axis='x', labelsize=6.5, rotation = 90)\n",
    "plt.show()"
   ]
  }
 ],
 "metadata": {
  "language_info": {
   "name": "python"
  }
 },
 "nbformat": 4,
 "nbformat_minor": 5
}
